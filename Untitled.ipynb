{
 "cells": [
  {
   "cell_type": "code",
   "execution_count": 1,
   "id": "light-description",
   "metadata": {
    "ExecuteTime": {
     "end_time": "2022-10-02T14:06:06.791067Z",
     "start_time": "2022-10-02T14:06:06.713658Z"
    }
   },
   "outputs": [
    {
     "ename": "ModuleNotFoundError",
     "evalue": "No module named 'land_cover_classification_unet'",
     "output_type": "error",
     "traceback": [
      "\u001b[0;31m---------------------------------------------------------------------------\u001b[0m",
      "\u001b[0;31mModuleNotFoundError\u001b[0m                       Traceback (most recent call last)",
      "\u001b[0;32m<ipython-input-1-3b6478d678ea>\u001b[0m in \u001b[0;36m<module>\u001b[0;34m\u001b[0m\n\u001b[1;32m      1\u001b[0m \u001b[0;32mimport\u001b[0m \u001b[0mos\u001b[0m\u001b[0;34m\u001b[0m\u001b[0;34m\u001b[0m\u001b[0m\n\u001b[1;32m      2\u001b[0m \u001b[0;32mimport\u001b[0m \u001b[0mlogging\u001b[0m\u001b[0;34m\u001b[0m\u001b[0;34m\u001b[0m\u001b[0m\n\u001b[0;32m----> 3\u001b[0;31m \u001b[0;32mfrom\u001b[0m \u001b[0mland_cover_classification_unet\u001b[0m\u001b[0;34m.\u001b[0m\u001b[0mutils\u001b[0m\u001b[0;34m.\u001b[0m\u001b[0mdataset\u001b[0m \u001b[0;32mimport\u001b[0m \u001b[0mBasicDataset\u001b[0m\u001b[0;34m\u001b[0m\u001b[0;34m\u001b[0m\u001b[0m\n\u001b[0m\u001b[1;32m      4\u001b[0m \u001b[0;32mfrom\u001b[0m \u001b[0mtorch\u001b[0m\u001b[0;34m.\u001b[0m\u001b[0mutils\u001b[0m\u001b[0;34m.\u001b[0m\u001b[0mdata\u001b[0m \u001b[0;32mimport\u001b[0m \u001b[0mDataLoader\u001b[0m\u001b[0;34m,\u001b[0m \u001b[0mrandom_split\u001b[0m\u001b[0;34m\u001b[0m\u001b[0;34m\u001b[0m\u001b[0m\n",
      "\u001b[0;31mModuleNotFoundError\u001b[0m: No module named 'land_cover_classification_unet'"
     ]
    }
   ],
   "source": [
    "import os\n",
    "import logging\n",
    "from land_cover_classification_unet.utils.dataset import BasicDataset\n",
    "from torch.utils.data import DataLoader, random_split"
   ]
  },
  {
   "cell_type": "code",
   "execution_count": null,
   "id": "distant-grade",
   "metadata": {},
   "outputs": [],
   "source": [
    "TRAINING_DATA_IMAGES = '/content/land_cover_classification_unet/data/training_data/images'\n",
    "TRAINING_DATA_MASKS = '/content/land_cover_classification_unet/data/training_data/masks'\n",
    "\n",
    "TRAINING_DATA_IMAGES_SS = '/content/land_cover_classification_unet/data/img_subset'\n",
    "TRAINING_DATA_MASKS_SS = '/content/land_cover_classification_unet/data/masks_subset'"
   ]
  },
  {
   "cell_type": "code",
   "execution_count": null,
   "id": "advised-adult",
   "metadata": {},
   "outputs": [],
   "source": [
    "ataset = BasicDataset(imgs_dir = TRAINING_DATA_IMAGES_SS,\n",
    "                       masks_dir = TRAINING_DATA_MASKS_SS)\n",
    "\n",
    "train_loader = DataLoader(dataset, batch_size=2, shuffle=True, num_workers=8, pin_memory=True)"
   ]
  },
  {
   "cell_type": "code",
   "execution_count": null,
   "id": "champion-dylan",
   "metadata": {},
   "outputs": [],
   "source": []
  }
 ],
 "metadata": {
  "kernelspec": {
   "display_name": "Python 3",
   "language": "python",
   "name": "python3"
  },
  "language_info": {
   "codemirror_mode": {
    "name": "ipython",
    "version": 3
   },
   "file_extension": ".py",
   "mimetype": "text/x-python",
   "name": "python",
   "nbconvert_exporter": "python",
   "pygments_lexer": "ipython3",
   "version": "3.7.6"
  },
  "toc": {
   "base_numbering": 1,
   "nav_menu": {},
   "number_sections": true,
   "sideBar": true,
   "skip_h1_title": false,
   "title_cell": "Table of Contents",
   "title_sidebar": "Contents",
   "toc_cell": false,
   "toc_position": {},
   "toc_section_display": true,
   "toc_window_display": false
  }
 },
 "nbformat": 4,
 "nbformat_minor": 5
}
