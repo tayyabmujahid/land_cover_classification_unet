{
  "cells": [
    {
      "cell_type": "markdown",
      "metadata": {
        "id": "view-in-github",
        "colab_type": "text"
      },
      "source": [
        "<a href=\"https://colab.research.google.com/github/tayyabmujahid/land_cover_classification_unet/blob/wandb_extended/scratch_notebook.ipynb\" target=\"_parent\"><img src=\"https://colab.research.google.com/assets/colab-badge.svg\" alt=\"Open In Colab\"/></a>"
      ]
    },
    {
      "cell_type": "markdown",
      "metadata": {
        "id": "iMO9yi4h71Ey"
      },
      "source": [
        "This is a notebook for training a semantic segementation model for land cover classification <br>\n",
        "Reference\n",
        "https://github.com/tayyabmujahid/land_cover_classification_unet/blob/main/colab_wrapper.ipynb"
      ]
    },
    {
      "cell_type": "code",
      "execution_count": 1,
      "metadata": {
        "colab": {
          "base_uri": "https://localhost:8080/"
        },
        "id": "SFx95r8h65zq",
        "outputId": "b6fc694c-4752-41a1-c80d-8302ce7dba07"
      },
      "outputs": [
        {
          "output_type": "stream",
          "name": "stdout",
          "text": [
            "Cloning into 'land_cover_classification_unet'...\n",
            "remote: Enumerating objects: 319, done.\u001b[K\n",
            "remote: Counting objects: 100% (131/131), done.\u001b[K\n",
            "remote: Compressing objects: 100% (60/60), done.\u001b[K\n",
            "remote: Total 319 (delta 66), reused 115 (delta 58), pack-reused 188\u001b[K\n",
            "Receiving objects: 100% (319/319), 101.47 MiB | 16.72 MiB/s, done.\n",
            "Resolving deltas: 100% (139/139), done.\n"
          ]
        }
      ],
      "source": [
        "! git clone --branch wandb_extended https://github.com/tayyabmujahid/land_cover_classification_unet.git"
      ]
    },
    {
      "cell_type": "code",
      "execution_count": 2,
      "metadata": {
        "ExecuteTime": {
          "end_time": "2022-10-06T06:38:47.497241Z",
          "start_time": "2022-10-06T06:38:47.446857Z"
        },
        "id": "sFPEbrn2XQYb"
      },
      "outputs": [],
      "source": [
        "%load_ext autoreload\n",
        "%autoreload 2"
      ]
    },
    {
      "cell_type": "code",
      "execution_count": 3,
      "metadata": {
        "id": "UJ-XHSS47EKE"
      },
      "outputs": [],
      "source": [
        "DATA_ROOT = '/content/drive/MyDrive/fsdl_project'\n",
        "DATA_DEST = '/content/land_cover_classification_unet/data'\n",
        "WORKSPACE_ROOT = '/content/land_cover_classification_unet'"
      ]
    },
    {
      "cell_type": "markdown",
      "metadata": {
        "id": "GHUR9gJdw6O3"
      },
      "source": []
    },
    {
      "cell_type": "markdown",
      "metadata": {
        "id": "u3IkNtUN7I4h"
      },
      "source": []
    },
    {
      "cell_type": "code",
      "execution_count": null,
      "metadata": {
        "colab": {
          "base_uri": "https://localhost:8080/"
        },
        "id": "o_a0ti7m7uJT",
        "outputId": "96a3ba93-05e1-4294-e5a7-ad5c8c573387"
      },
      "outputs": [
        {
          "name": "stdout",
          "output_type": "stream",
          "text": [
            "Mounted at /content/drive\n"
          ]
        }
      ],
      "source": [
        "from google.colab import drive\n",
        "drive.mount('/content/drive')"
      ]
    },
    {
      "cell_type": "code",
      "execution_count": null,
      "metadata": {
        "colab": {
          "base_uri": "https://localhost:8080/",
          "height": 422
        },
        "id": "cA7UvOoHOXim",
        "outputId": "aabac5d1-faa4-4514-fafc-4bf24cc9fdb5"
      },
      "outputs": [
        {
          "name": "stdout",
          "output_type": "stream",
          "text": [
            "\u001b[K     |████████████████████████████████| 1.8 MB 5.1 MB/s \n",
            "\u001b[K     |████████████████████████████████| 162 kB 83.9 MB/s \n",
            "\u001b[K     |████████████████████████████████| 181 kB 92.3 MB/s \n",
            "\u001b[K     |████████████████████████████████| 63 kB 2.2 MB/s \n",
            "\u001b[K     |████████████████████████████████| 158 kB 90.3 MB/s \n",
            "\u001b[K     |████████████████████████████████| 157 kB 99.4 MB/s \n",
            "\u001b[K     |████████████████████████████████| 157 kB 98.5 MB/s \n",
            "\u001b[K     |████████████████████████████████| 157 kB 96.1 MB/s \n",
            "\u001b[K     |████████████████████████████████| 157 kB 98.8 MB/s \n",
            "\u001b[K     |████████████████████████████████| 157 kB 97.4 MB/s \n",
            "\u001b[K     |████████████████████████████████| 157 kB 94.9 MB/s \n",
            "\u001b[K     |████████████████████████████████| 157 kB 95.6 MB/s \n",
            "\u001b[K     |████████████████████████████████| 156 kB 96.6 MB/s \n",
            "\u001b[?25h  Building wheel for pathtools (setup.py) ... \u001b[?25l\u001b[?25hdone\n"
          ]
        },
        {
          "name": "stderr",
          "output_type": "stream",
          "text": [
            "ERROR:wandb.jupyter:Failed to detect the name of this notebook, you can set it manually with the WANDB_NOTEBOOK_NAME environment variable to enable code saving.\n"
          ]
        },
        {
          "data": {
            "application/javascript": [
              "\n",
              "        window._wandbApiKey = new Promise((resolve, reject) => {\n",
              "            function loadScript(url) {\n",
              "            return new Promise(function(resolve, reject) {\n",
              "                let newScript = document.createElement(\"script\");\n",
              "                newScript.onerror = reject;\n",
              "                newScript.onload = resolve;\n",
              "                document.body.appendChild(newScript);\n",
              "                newScript.src = url;\n",
              "            });\n",
              "            }\n",
              "            loadScript(\"https://cdn.jsdelivr.net/npm/postmate/build/postmate.min.js\").then(() => {\n",
              "            const iframe = document.createElement('iframe')\n",
              "            iframe.style.cssText = \"width:0;height:0;border:none\"\n",
              "            document.body.appendChild(iframe)\n",
              "            const handshake = new Postmate({\n",
              "                container: iframe,\n",
              "                url: 'https://wandb.ai/authorize'\n",
              "            });\n",
              "            const timeout = setTimeout(() => reject(\"Couldn't auto authenticate\"), 5000)\n",
              "            handshake.then(function(child) {\n",
              "                child.on('authorize', data => {\n",
              "                    clearTimeout(timeout)\n",
              "                    resolve(data)\n",
              "                });\n",
              "            });\n",
              "            })\n",
              "        });\n",
              "    "
            ],
            "text/plain": [
              "<IPython.core.display.Javascript object>"
            ]
          },
          "metadata": {},
          "output_type": "display_data"
        },
        {
          "name": "stderr",
          "output_type": "stream",
          "text": [
            "\u001b[34m\u001b[1mwandb\u001b[0m: Logging into wandb.ai. (Learn how to deploy a W&B server locally: https://wandb.me/wandb-server)\n",
            "\u001b[34m\u001b[1mwandb\u001b[0m: You can find your API key in your browser here: https://wandb.ai/authorize\n",
            "wandb: Paste an API key from your profile and hit enter, or press ctrl+c to quit: "
          ]
        },
        {
          "name": "stdout",
          "output_type": "stream",
          "text": [
            "··········\n"
          ]
        },
        {
          "name": "stderr",
          "output_type": "stream",
          "text": [
            "\u001b[34m\u001b[1mwandb\u001b[0m: Appending key for api.wandb.ai to your netrc file: /root/.netrc\n"
          ]
        },
        {
          "data": {
            "text/plain": [
              "True"
            ]
          },
          "execution_count": 5,
          "metadata": {},
          "output_type": "execute_result"
        }
      ],
      "source": [
        "%pip install -q wandb\n",
        "import wandb; wandb.login()"
      ]
    },
    {
      "cell_type": "code",
      "execution_count": null,
      "metadata": {
        "id": "GmO3c-bE2Bn0"
      },
      "outputs": [],
      "source": [
        "# import os\n",
        "\n",
        "# os.environ['KAGGLE_USERNAME'] = \"patdat\" # username from the json file\n",
        "# os.environ['KAGGLE_KEY'] = \"2b6451a5fe4aa3e525c69188544f643f\" # key from the json file\n",
        "# !cd drive/MyDrive/fsdl_project/\n",
        "# !kaggle datasets download -d geoap96/deepglobe2018-landcover-segmentation-traindataset"
      ]
    },
    {
      "cell_type": "code",
      "execution_count": null,
      "metadata": {
        "colab": {
          "base_uri": "https://localhost:8080/"
        },
        "id": "H1zhOeTK5otB",
        "outputId": "09a8832c-0ca9-4922-93fe-fa9986d4d68a"
      },
      "outputs": [
        {
          "name": "stdout",
          "output_type": "stream",
          "text": [
            "Archive:  /content/land_cover_classification_unet/data/deepglobe2018-landcover-segmentation-traindataset.zip\n",
            "  inflating: /content/land_cover_classification_unet/data/data.zip  \n",
            "renamed 'data/data/test_data' -> 'data/test_data'\n",
            "renamed 'data/data/training_data' -> 'data/training_data'\n"
          ]
        }
      ],
      "source": [
        "!/content/land_cover_classification_unet/data_copying.sh"
      ]
    },
    {
      "cell_type": "code",
      "execution_count": null,
      "metadata": {
        "id": "vIwNQFDoU3F5"
      },
      "outputs": [],
      "source": []
    },
    {
      "cell_type": "code",
      "execution_count": null,
      "metadata": {
        "id": "Vu938I8N6Hvy"
      },
      "outputs": [],
      "source": [
        "# !cp $DATA_ROOT/deepglobe2018-landcover-segmentation-traindataset.zip $DATA_DEST\n",
        "# !unzip /content/land_cover_classification_unet/data/deepglobe2018-landcover-segmentation-traindataset.zip -d $DATA_DEST\n",
        "# !unzip -qqq /content/land_cover_classification_unet/data/data.zip -d /content/land_cover_classification_unet/data\n",
        "# %cd $WORKSPACE_ROOT\n",
        "# !mv  -v data/data/* data/\n",
        "# !rm -d data/data/"
      ]
    },
    {
      "cell_type": "code",
      "execution_count": 4,
      "metadata": {
        "colab": {
          "base_uri": "https://localhost:8080/"
        },
        "id": "BBVcKrjLXs8j",
        "outputId": "f1bc66b0-2104-47e0-8518-f8ddf27dcbf0"
      },
      "outputs": [
        {
          "output_type": "stream",
          "name": "stdout",
          "text": [
            "Looking in indexes: https://pypi.org/simple, https://us-python.pkg.dev/colab-wheels/public/simple/\n",
            "Collecting scikit-build\n",
            "  Downloading scikit_build-0.15.0-py2.py3-none-any.whl (77 kB)\n",
            "\u001b[K     |████████████████████████████████| 77 kB 5.5 MB/s \n",
            "\u001b[?25hCollecting distro\n",
            "  Downloading distro-1.7.0-py3-none-any.whl (20 kB)\n",
            "Requirement already satisfied: setuptools>=28.0.0 in /usr/local/lib/python3.7/dist-packages (from scikit-build) (57.4.0)\n",
            "Requirement already satisfied: wheel>=0.29.0 in /usr/local/lib/python3.7/dist-packages (from scikit-build) (0.37.1)\n",
            "Requirement already satisfied: packaging in /usr/local/lib/python3.7/dist-packages (from scikit-build) (21.3)\n",
            "Requirement already satisfied: pyparsing!=3.0.5,>=2.0.2 in /usr/local/lib/python3.7/dist-packages (from packaging->scikit-build) (3.0.9)\n",
            "Installing collected packages: distro, scikit-build\n",
            "Successfully installed distro-1.7.0 scikit-build-0.15.0\n",
            "Looking in indexes: https://pypi.org/simple, https://us-python.pkg.dev/colab-wheels/public/simple/\n",
            "Collecting segmentation-models-pytorch\n",
            "  Downloading segmentation_models_pytorch-0.3.0-py3-none-any.whl (97 kB)\n",
            "\u001b[K     |████████████████████████████████| 97 kB 6.9 MB/s \n",
            "\u001b[?25hCollecting pretrainedmodels==0.7.4\n",
            "  Downloading pretrainedmodels-0.7.4.tar.gz (58 kB)\n",
            "\u001b[K     |████████████████████████████████| 58 kB 7.6 MB/s \n",
            "\u001b[?25hCollecting efficientnet-pytorch==0.7.1\n",
            "  Downloading efficientnet_pytorch-0.7.1.tar.gz (21 kB)\n",
            "Requirement already satisfied: pillow in /usr/local/lib/python3.7/dist-packages (from segmentation-models-pytorch) (7.1.2)\n",
            "Requirement already satisfied: torchvision>=0.5.0 in /usr/local/lib/python3.7/dist-packages (from segmentation-models-pytorch) (0.13.1+cu113)\n",
            "Requirement already satisfied: tqdm in /usr/local/lib/python3.7/dist-packages (from segmentation-models-pytorch) (4.64.1)\n",
            "Collecting timm==0.4.12\n",
            "  Downloading timm-0.4.12-py3-none-any.whl (376 kB)\n",
            "\u001b[K     |████████████████████████████████| 376 kB 61.5 MB/s \n",
            "\u001b[?25hRequirement already satisfied: torch in /usr/local/lib/python3.7/dist-packages (from efficientnet-pytorch==0.7.1->segmentation-models-pytorch) (1.12.1+cu113)\n",
            "Collecting munch\n",
            "  Downloading munch-2.5.0-py2.py3-none-any.whl (10 kB)\n",
            "Requirement already satisfied: typing-extensions in /usr/local/lib/python3.7/dist-packages (from torch->efficientnet-pytorch==0.7.1->segmentation-models-pytorch) (4.1.1)\n",
            "Requirement already satisfied: requests in /usr/local/lib/python3.7/dist-packages (from torchvision>=0.5.0->segmentation-models-pytorch) (2.23.0)\n",
            "Requirement already satisfied: numpy in /usr/local/lib/python3.7/dist-packages (from torchvision>=0.5.0->segmentation-models-pytorch) (1.21.6)\n",
            "Requirement already satisfied: six in /usr/local/lib/python3.7/dist-packages (from munch->pretrainedmodels==0.7.4->segmentation-models-pytorch) (1.15.0)\n",
            "Requirement already satisfied: certifi>=2017.4.17 in /usr/local/lib/python3.7/dist-packages (from requests->torchvision>=0.5.0->segmentation-models-pytorch) (2022.9.24)\n",
            "Requirement already satisfied: chardet<4,>=3.0.2 in /usr/local/lib/python3.7/dist-packages (from requests->torchvision>=0.5.0->segmentation-models-pytorch) (3.0.4)\n",
            "Requirement already satisfied: idna<3,>=2.5 in /usr/local/lib/python3.7/dist-packages (from requests->torchvision>=0.5.0->segmentation-models-pytorch) (2.10)\n",
            "Requirement already satisfied: urllib3!=1.25.0,!=1.25.1,<1.26,>=1.21.1 in /usr/local/lib/python3.7/dist-packages (from requests->torchvision>=0.5.0->segmentation-models-pytorch) (1.24.3)\n",
            "Building wheels for collected packages: efficientnet-pytorch, pretrainedmodels\n",
            "  Building wheel for efficientnet-pytorch (setup.py) ... \u001b[?25l\u001b[?25hdone\n",
            "  Created wheel for efficientnet-pytorch: filename=efficientnet_pytorch-0.7.1-py3-none-any.whl size=16446 sha256=c02707f93919e21a9752bc889b05e7fc35112bcbd7087868526db1fa648468bf\n",
            "  Stored in directory: /root/.cache/pip/wheels/0e/cc/b2/49e74588263573ff778da58cc99b9c6349b496636a7e165be6\n",
            "  Building wheel for pretrainedmodels (setup.py) ... \u001b[?25l\u001b[?25hdone\n",
            "  Created wheel for pretrainedmodels: filename=pretrainedmodels-0.7.4-py3-none-any.whl size=60965 sha256=d4ea58508c6b06f013ce860a4555c6d9158a8120609fb8470a197934924e9b55\n",
            "  Stored in directory: /root/.cache/pip/wheels/ed/27/e8/9543d42de2740d3544db96aefef63bda3f2c1761b3334f4873\n",
            "Successfully built efficientnet-pytorch pretrainedmodels\n",
            "Installing collected packages: munch, timm, pretrainedmodels, efficientnet-pytorch, segmentation-models-pytorch\n",
            "Successfully installed efficientnet-pytorch-0.7.1 munch-2.5.0 pretrainedmodels-0.7.4 segmentation-models-pytorch-0.3.0 timm-0.4.12\n"
          ]
        }
      ],
      "source": [
        "!pip install scikit-build\n",
        "!pip install segmentation-models-pytorch"
      ]
    },
    {
      "cell_type": "code",
      "execution_count": 5,
      "metadata": {
        "colab": {
          "base_uri": "https://localhost:8080/"
        },
        "id": "a1XunUK0X6DK",
        "outputId": "c132c041-f9c7-45ae-f12d-02840ad46d5f"
      },
      "outputs": [
        {
          "output_type": "stream",
          "name": "stdout",
          "text": [
            "/content/land_cover_classification_unet\n",
            "yellow: 0.0\n",
            "magenta: 0.0\n",
            "cyan: 0.0\n",
            "black: 0.0\n",
            "white: 0.0\n",
            "blue: 0.0\n",
            "green: 0.0\n",
            "Figure(640x480)\n"
          ]
        }
      ],
      "source": [
        "py -p /content/land_cover_classification_unet/data/training_data"
      ]
    },
    {
      "cell_type": "code",
      "execution_count": null,
      "metadata": {
        "ExecuteTime": {
          "end_time": "2022-10-05T18:34:05.975321Z",
          "start_time": "2022-10-05T18:34:04.269316Z"
        },
        "colab": {
          "base_uri": "https://localhost:8080/"
        },
        "id": "S7_JmJNS15T0",
        "outputId": "0cde8267-6c7b-4fcb-8eba-1a56dc3036c7"
      },
      "outputs": [
        {
          "name": "stdout",
          "output_type": "stream",
          "text": [
            "Traceback (most recent call last):\r\n",
            "  File \"train.py\", line 16, in <module>\r\n",
            "    from utils.dataset import BasicDataset\r\n",
            "ModuleNotFoundError: No module named 'utils.dataset'\r\n"
          ]
        }
      ],
      "source": [
        "!python3 train.py -e 100 -v 20.0 -l 1e-5 -b 2 -s 0.2"
      ]
    },
    {
      "cell_type": "code",
      "execution_count": null,
      "metadata": {
        "id": "gNm9dzOA1_pn"
      },
      "outputs": [],
      "source": []
    },
    {
      "cell_type": "markdown",
      "metadata": {
        "id": "l_QQ0W42bFHR"
      },
      "source": [
        "## EDA"
      ]
    },
    {
      "cell_type": "code",
      "source": [
        "DATA_ROOT = '/content/drive/MyDrive/fsdl_project'\n",
        "DATA_DEST = '/content/land_cover_classification_unet/data'\n",
        "WORKSPACE_ROOT = '/content/land_cover_classification_unet'"
      ],
      "metadata": {
        "id": "-ND_-y1jdErK"
      },
      "execution_count": null,
      "outputs": []
    },
    {
      "cell_type": "code",
      "execution_count": 15,
      "metadata": {
        "ExecuteTime": {
          "end_time": "2022-10-06T06:37:28.660054Z",
          "start_time": "2022-10-06T06:37:26.248075Z"
        },
        "id": "qnSiumo7Je5i"
      },
      "outputs": [],
      "source": [
        "import sys\n",
        "sys.path.append(\"/home/mujahid/PycharmProjects\")\n",
        "import os\n",
        "# import wandb\n",
        "import logging\n",
        "from land_cover_classification_unet.utils.dataset import BasicDataset\n",
        "from torch.utils.data import DataLoader, random_split\n",
        "import torch\n",
        "%matplotlib inline\n",
        "%cd $WORKSPACE_ROOT\n",
        "!python3 distribution."
      ]
    },
    {
      "cell_type": "code",
      "execution_count": 8,
      "metadata": {
        "ExecuteTime": {
          "end_time": "2022-10-06T06:39:03.713240Z",
          "start_time": "2022-10-06T06:39:03.688752Z"
        },
        "id": "g4opg9ULmrqV"
      },
      "outputs": [],
      "source": [
        "logging.basicConfig(filename='app.log',\n",
        "                    level=logging.INFO,                    \n",
        "                    )"
      ]
    },
    {
      "cell_type": "code",
      "execution_count": 9,
      "metadata": {
        "ExecuteTime": {
          "end_time": "2022-10-06T06:39:01.632978Z",
          "start_time": "2022-10-06T06:39:01.608374Z"
        },
        "id": "QIBuxpIPSeg6"
      },
      "outputs": [],
      "source": [
        "TRAINING_DATA_IMAGES = 'land_cover_classification_unet/data/training_data/images'\n",
        "TRAINING_DATA_MASKS = 'land_cover_classification_unet/data/training_data/masks'\n",
        "\n",
        "TRAINING_DATA_IMAGES_SS = 'data/img_subset'\n",
        "TRAINING_DATA_MASKS_SS = 'data/masks_subset'"
      ]
    },
    {
      "cell_type": "code",
      "execution_count": 10,
      "metadata": {
        "ExecuteTime": {
          "end_time": "2022-10-06T06:39:05.285434Z",
          "start_time": "2022-10-06T06:39:05.260205Z"
        },
        "id": "aMILkvsIUB7P",
        "outputId": "b0257a12-9f18-48d7-db84-83e785f1a1a6",
        "colab": {
          "base_uri": "https://localhost:8080/"
        }
      },
      "outputs": [
        {
          "output_type": "stream",
          "name": "stderr",
          "text": [
            "/usr/local/lib/python3.7/dist-packages/torch/utils/data/dataloader.py:566: UserWarning: This DataLoader will create 8 worker processes in total. Our suggested max number of worker in current system is 2, which is smaller than what this DataLoader is going to create. Please be aware that excessive worker creation might get DataLoader running slow or even freeze, lower the worker number to avoid potential slowness/freeze if necessary.\n",
            "  cpuset_checked))\n"
          ]
        }
      ],
      "source": [
        "dataset = BasicDataset(imgs_dir = TRAINING_DATA_IMAGES_SS,\n",
        "                       masks_dir = TRAINING_DATA_MASKS_SS)\n",
        "\n",
        "train_loader = DataLoader(dataset, batch_size=2, shuffle=True, num_workers=8, pin_memory=True)\n",
        "# val_loader = DataLoader(val, batch_size=batch_size, shuffle=False, num_workers=8, pin_memory=True, drop_last=True)"
      ]
    },
    {
      "cell_type": "code",
      "execution_count": 14,
      "metadata": {
        "ExecuteTime": {
          "end_time": "2022-10-05T20:39:59.427517Z",
          "start_time": "2022-10-05T20:39:58.512976Z"
        },
        "colab": {
          "base_uri": "https://localhost:8080/"
        },
        "id": "7Lv0lvgak419",
        "outputId": "17be5240-2821-4ba6-a303-8151b83769a9"
      },
      "outputs": [
        {
          "output_type": "stream",
          "name": "stderr",
          "text": [
            "/usr/local/lib/python3.7/dist-packages/torch/utils/data/dataloader.py:566: UserWarning: This DataLoader will create 8 worker processes in total. Our suggested max number of worker in current system is 2, which is smaller than what this DataLoader is going to create. Please be aware that excessive worker creation might get DataLoader running slow or even freeze, lower the worker number to avoid potential slowness/freeze if necessary.\n",
            "  cpuset_checked))\n"
          ]
        }
      ],
      "source": [
        "batch = next(iter(train_loader))\n"
      ]
    },
    {
      "cell_type": "code",
      "source": [
        "from unet import UNet\n",
        "\n",
        "def compute_iou(predicted, actual, num_calsses):\n",
        "    intersection = 0\n",
        "    union = 0\n",
        "    iou = np.zeros((num_calsses - 1), dtype=float)\n",
        "    for k in range(num_calsses - 1):\n",
        "        a = (predicted[0] == k).int()\n",
        "        b = (actual == k).int()\n",
        "        intersection = torch.sum(torch.mul(a, b))\n",
        "        \n",
        "        union = torch.sum(((a + b) > 0).int())\n",
        "        iou[k] = intersection / union\n",
        "    mean_iou = (1 / (num_calsses - 1)) * np.sum(iou)\n",
        "    return mean_iou\n"
      ],
      "metadata": {
        "id": "Ge8In5nYbcOl"
      },
      "execution_count": 17,
      "outputs": []
    },
    {
      "cell_type": "code",
      "source": [
        "net = UNet(n_channels=3, n_classes=7)\n",
        "# logging.info(\"Loading model {}\".ormat(args.model))\n",
        "device = torch.device('cuda' if torch.cuda.is_available() else 'cpu')\n",
        "logging.info(f'Using device {device}')\n",
        "net.eval()"
      ],
      "metadata": {
        "id": "_XKAwyoabuw_",
        "outputId": "1c5b6dad-9278-42f3-8dfe-2d86b35aa39d",
        "colab": {
          "base_uri": "https://localhost:8080/"
        }
      },
      "execution_count": 19,
      "outputs": [
        {
          "output_type": "execute_result",
          "data": {
            "text/plain": [
              "UNet(\n",
              "  (inc): DoubleConv(\n",
              "    (double_conv): Sequential(\n",
              "      (0): Conv2d(3, 64, kernel_size=(3, 3), stride=(1, 1), padding=(1, 1))\n",
              "      (1): BatchNorm2d(64, eps=1e-05, momentum=0.1, affine=True, track_running_stats=True)\n",
              "      (2): ReLU(inplace=True)\n",
              "      (3): Conv2d(64, 64, kernel_size=(3, 3), stride=(1, 1), padding=(1, 1))\n",
              "      (4): BatchNorm2d(64, eps=1e-05, momentum=0.1, affine=True, track_running_stats=True)\n",
              "      (5): ReLU(inplace=True)\n",
              "    )\n",
              "  )\n",
              "  (down1): Down(\n",
              "    (maxpool_conv): Sequential(\n",
              "      (0): MaxPool2d(kernel_size=2, stride=2, padding=0, dilation=1, ceil_mode=False)\n",
              "      (1): DoubleConv(\n",
              "        (double_conv): Sequential(\n",
              "          (0): Conv2d(64, 128, kernel_size=(3, 3), stride=(1, 1), padding=(1, 1))\n",
              "          (1): BatchNorm2d(128, eps=1e-05, momentum=0.1, affine=True, track_running_stats=True)\n",
              "          (2): ReLU(inplace=True)\n",
              "          (3): Conv2d(128, 128, kernel_size=(3, 3), stride=(1, 1), padding=(1, 1))\n",
              "          (4): BatchNorm2d(128, eps=1e-05, momentum=0.1, affine=True, track_running_stats=True)\n",
              "          (5): ReLU(inplace=True)\n",
              "        )\n",
              "      )\n",
              "    )\n",
              "  )\n",
              "  (down2): Down(\n",
              "    (maxpool_conv): Sequential(\n",
              "      (0): MaxPool2d(kernel_size=2, stride=2, padding=0, dilation=1, ceil_mode=False)\n",
              "      (1): DoubleConv(\n",
              "        (double_conv): Sequential(\n",
              "          (0): Conv2d(128, 256, kernel_size=(3, 3), stride=(1, 1), padding=(1, 1))\n",
              "          (1): BatchNorm2d(256, eps=1e-05, momentum=0.1, affine=True, track_running_stats=True)\n",
              "          (2): ReLU(inplace=True)\n",
              "          (3): Conv2d(256, 256, kernel_size=(3, 3), stride=(1, 1), padding=(1, 1))\n",
              "          (4): BatchNorm2d(256, eps=1e-05, momentum=0.1, affine=True, track_running_stats=True)\n",
              "          (5): ReLU(inplace=True)\n",
              "        )\n",
              "      )\n",
              "    )\n",
              "  )\n",
              "  (down3): Down(\n",
              "    (maxpool_conv): Sequential(\n",
              "      (0): MaxPool2d(kernel_size=2, stride=2, padding=0, dilation=1, ceil_mode=False)\n",
              "      (1): DoubleConv(\n",
              "        (double_conv): Sequential(\n",
              "          (0): Conv2d(256, 512, kernel_size=(3, 3), stride=(1, 1), padding=(1, 1))\n",
              "          (1): BatchNorm2d(512, eps=1e-05, momentum=0.1, affine=True, track_running_stats=True)\n",
              "          (2): ReLU(inplace=True)\n",
              "          (3): Conv2d(512, 512, kernel_size=(3, 3), stride=(1, 1), padding=(1, 1))\n",
              "          (4): BatchNorm2d(512, eps=1e-05, momentum=0.1, affine=True, track_running_stats=True)\n",
              "          (5): ReLU(inplace=True)\n",
              "        )\n",
              "      )\n",
              "    )\n",
              "  )\n",
              "  (down4): Down(\n",
              "    (maxpool_conv): Sequential(\n",
              "      (0): MaxPool2d(kernel_size=2, stride=2, padding=0, dilation=1, ceil_mode=False)\n",
              "      (1): DoubleConv(\n",
              "        (double_conv): Sequential(\n",
              "          (0): Conv2d(512, 512, kernel_size=(3, 3), stride=(1, 1), padding=(1, 1))\n",
              "          (1): BatchNorm2d(512, eps=1e-05, momentum=0.1, affine=True, track_running_stats=True)\n",
              "          (2): ReLU(inplace=True)\n",
              "          (3): Conv2d(512, 512, kernel_size=(3, 3), stride=(1, 1), padding=(1, 1))\n",
              "          (4): BatchNorm2d(512, eps=1e-05, momentum=0.1, affine=True, track_running_stats=True)\n",
              "          (5): ReLU(inplace=True)\n",
              "        )\n",
              "      )\n",
              "    )\n",
              "  )\n",
              "  (up1): Up(\n",
              "    (up): Upsample(scale_factor=2.0, mode=bilinear)\n",
              "    (conv): DoubleConv(\n",
              "      (double_conv): Sequential(\n",
              "        (0): Conv2d(1024, 512, kernel_size=(3, 3), stride=(1, 1), padding=(1, 1))\n",
              "        (1): BatchNorm2d(512, eps=1e-05, momentum=0.1, affine=True, track_running_stats=True)\n",
              "        (2): ReLU(inplace=True)\n",
              "        (3): Conv2d(512, 256, kernel_size=(3, 3), stride=(1, 1), padding=(1, 1))\n",
              "        (4): BatchNorm2d(256, eps=1e-05, momentum=0.1, affine=True, track_running_stats=True)\n",
              "        (5): ReLU(inplace=True)\n",
              "      )\n",
              "    )\n",
              "  )\n",
              "  (up2): Up(\n",
              "    (up): Upsample(scale_factor=2.0, mode=bilinear)\n",
              "    (conv): DoubleConv(\n",
              "      (double_conv): Sequential(\n",
              "        (0): Conv2d(512, 256, kernel_size=(3, 3), stride=(1, 1), padding=(1, 1))\n",
              "        (1): BatchNorm2d(256, eps=1e-05, momentum=0.1, affine=True, track_running_stats=True)\n",
              "        (2): ReLU(inplace=True)\n",
              "        (3): Conv2d(256, 128, kernel_size=(3, 3), stride=(1, 1), padding=(1, 1))\n",
              "        (4): BatchNorm2d(128, eps=1e-05, momentum=0.1, affine=True, track_running_stats=True)\n",
              "        (5): ReLU(inplace=True)\n",
              "      )\n",
              "    )\n",
              "  )\n",
              "  (up3): Up(\n",
              "    (up): Upsample(scale_factor=2.0, mode=bilinear)\n",
              "    (conv): DoubleConv(\n",
              "      (double_conv): Sequential(\n",
              "        (0): Conv2d(256, 128, kernel_size=(3, 3), stride=(1, 1), padding=(1, 1))\n",
              "        (1): BatchNorm2d(128, eps=1e-05, momentum=0.1, affine=True, track_running_stats=True)\n",
              "        (2): ReLU(inplace=True)\n",
              "        (3): Conv2d(128, 64, kernel_size=(3, 3), stride=(1, 1), padding=(1, 1))\n",
              "        (4): BatchNorm2d(64, eps=1e-05, momentum=0.1, affine=True, track_running_stats=True)\n",
              "        (5): ReLU(inplace=True)\n",
              "      )\n",
              "    )\n",
              "  )\n",
              "  (up4): Up(\n",
              "    (up): Upsample(scale_factor=2.0, mode=bilinear)\n",
              "    (conv): DoubleConv(\n",
              "      (double_conv): Sequential(\n",
              "        (0): Conv2d(128, 64, kernel_size=(3, 3), stride=(1, 1), padding=(1, 1))\n",
              "        (1): BatchNorm2d(64, eps=1e-05, momentum=0.1, affine=True, track_running_stats=True)\n",
              "        (2): ReLU(inplace=True)\n",
              "        (3): Conv2d(64, 64, kernel_size=(3, 3), stride=(1, 1), padding=(1, 1))\n",
              "        (4): BatchNorm2d(64, eps=1e-05, momentum=0.1, affine=True, track_running_stats=True)\n",
              "        (5): ReLU(inplace=True)\n",
              "      )\n",
              "    )\n",
              "  )\n",
              "  (outc): OutConv(\n",
              "    (conv): Conv2d(64, 7, kernel_size=(1, 1), stride=(1, 1))\n",
              "  )\n",
              ")"
            ]
          },
          "metadata": {},
          "execution_count": 19
        }
      ]
    },
    {
      "cell_type": "code",
      "execution_count": null,
      "metadata": {
        "id": "RIjBrjY3nMNg"
      },
      "outputs": [],
      "source": [
        "imgs = batch['image']\n",
        "actual_masks = batch['image']\n",
        "pred_mask = net(imgs)\n",
        "print(pred_mask.shape)"
      ]
    },
    {
      "cell_type": "code",
      "execution_count": null,
      "metadata": {
        "ExecuteTime": {
          "end_time": "2022-10-06T06:39:37.992972Z",
          "start_time": "2022-10-06T06:39:37.966647Z"
        },
        "id": "Xw2f8lMEUD6N"
      },
      "outputs": [],
      "source": [
        "def visualize(image_paths):\n",
        "    n_images = len(image_paths)\n",
        "    plt.figure(figsize=(20,8))\n",
        "    for idx, (name, image) in enumerate(images.items()):\n",
        "        plt.subplot(1, n_images, idx + 1)\n",
        "        plt.xticks([]); \n",
        "        plt.yticks([])\n",
        "        # get title from the parameter names\n",
        "        plt.title(name.replace('_',' ').title(), fontsize=20)\n",
        "        plt.imshow(image)\n",
        "    plt.show()"
      ]
    },
    {
      "cell_type": "code",
      "execution_count": null,
      "metadata": {
        "pycharm": {
          "name": "#%%\n"
        },
        "id": "kj3lJ4hSXQYx"
      },
      "outputs": [],
      "source": [
        "image_paths =''"
      ]
    },
    {
      "cell_type": "code",
      "execution_count": null,
      "metadata": {
        "id": "tr_yP2D0XQYy"
      },
      "outputs": [],
      "source": [
        "wandb.init(job_type='Training',entity=\"fsdl2022_project051\",project='land_cover_segmentation')"
      ]
    },
    {
      "cell_type": "code",
      "execution_count": null,
      "metadata": {
        "colab": {
          "base_uri": "https://localhost:8080/",
          "height": 109
        },
        "id": "jtzmeS9EUbGG",
        "outputId": "28a8335f-8be1-4545-b0f0-95cffb268c46"
      },
      "outputs": [
        {
          "name": "stderr",
          "output_type": "stream",
          "text": [
            "\u001b[34m\u001b[1mwandb\u001b[0m: Currently logged in as: \u001b[33mtayyabm\u001b[0m (\u001b[33mfsdl2022_project051\u001b[0m). Use \u001b[1m`wandb login --relogin`\u001b[0m to force relogin\n"
          ]
        },
        {
          "data": {
            "text/html": [
              "Tracking run with wandb version 0.13.3"
            ],
            "text/plain": [
              "<IPython.core.display.HTML object>"
            ]
          },
          "metadata": {},
          "output_type": "display_data"
        },
        {
          "data": {
            "text/html": [
              "Run data is saved locally in <code>/content/land_cover_classification_unet/wandb/run-20221001_080721-3ka1y8nq</code>"
            ],
            "text/plain": [
              "<IPython.core.display.HTML object>"
            ]
          },
          "metadata": {},
          "output_type": "display_data"
        },
        {
          "data": {
            "text/html": [
              "Syncing run <strong><a href=\"https://wandb.ai/fsdl2022_project051/land_cover_segmentation/runs/3ka1y8nq\" target=\"_blank\">chocolate-terrain-2</a></strong> to <a href=\"https://wandb.ai/fsdl2022_project051/land_cover_segmentation\" target=\"_blank\">Weights & Biases</a> (<a href=\"https://wandb.me/run\" target=\"_blank\">docs</a>)<br/>"
            ],
            "text/plain": [
              "<IPython.core.display.HTML object>"
            ]
          },
          "metadata": {},
          "output_type": "display_data"
        },
        {
          "data": {
            "text/html": [
              "<button onClick=\"this.nextSibling.style.display='block';this.style.display='none';\">Display W&B run</button><iframe src=\"https://wandb.ai/fsdl2022_project051/land_cover_segmentation/runs/3ka1y8nq?jupyter=true\" style=\"border:none;width:100%;height:420px;display:none;\"></iframe>"
            ],
            "text/plain": [
              "<wandb.sdk.wandb_run.Run at 0x7f99801d0350>"
            ]
          },
          "execution_count": 15,
          "metadata": {},
          "output_type": "execute_result"
        }
      ],
      "source": [
        "wandb.init(job_type='Training',entity=\"fsdl2022_project051\",project='land_cover_segmentation')"
      ]
    },
    {
      "cell_type": "code",
      "execution_count": null,
      "metadata": {
        "ExecuteTime": {
          "end_time": "2022-10-06T06:58:53.606568Z",
          "start_time": "2022-10-06T06:58:53.409051Z"
        },
        "colab": {
          "base_uri": "https://localhost:8080/",
          "height": 167
        },
        "id": "8Lg-SypyY5Ko",
        "outputId": "e363b336-1139-4dd0-dbdb-40744fa8d09a"
      },
      "outputs": [
        {
          "name": "stdout",
          "output_type": "stream",
          "text": [
            "(3, 2448, 2448)\n",
            "(2448, 2448, 3)\n"
          ]
        }
      ],
      "source": [
        "from PIL import Image\n",
        "import numpy as np\n",
        "path = '/home/mujahid/PycharmProjects/land_cover_classification_unet/data/img_subset/855_sat.jpg'\n",
        "img = Image.open(path)\n",
        "img.size\n",
        "img_nd = np.array(img)\n",
        "# w ,h = img_nd.shape[1], img_nd.shape[2]\n",
        "# img_nd = np.reshape(img_nd,(w,h,3))\n",
        "# img_re = Image.fromarray(img_nd)\n",
        "img_nd = img_nd.transpose((2, 0, 1))\n",
        "\n",
        "print(img_nd.shape)\n",
        "img_nd = img_nd.transpose((1, 2, 0))\n",
        "\n",
        "print(img_nd.shape)\n",
        "# print(img_re.size)"
      ]
    },
    {
      "cell_type": "code",
      "execution_count": null,
      "metadata": {
        "ExecuteTime": {
          "end_time": "2022-10-06T06:41:07.655694Z",
          "start_time": "2022-10-06T06:40:58.974534Z"
        },
        "id": "LC8IDR6a8vkB",
        "outputId": "1d28a87f-ad3a-4dce-e3aa-4052918429e5"
      },
      "outputs": [
        {
          "name": "stderr",
          "output_type": "stream",
          "text": [
            "\u001b[34m\u001b[1mwandb\u001b[0m: Currently logged in as: \u001b[33mfsdl2022_project051\u001b[0m (use `wandb login --relogin` to force relogin)\n",
            "\u001b[34m\u001b[1mwandb\u001b[0m: wandb version 0.13.4 is available!  To upgrade, please run:\n",
            "\u001b[34m\u001b[1mwandb\u001b[0m:  $ pip install wandb --upgrade\n"
          ]
        },
        {
          "data": {
            "text/html": [
              "\n",
              "                Tracking run with wandb version 0.11.2<br/>\n",
              "                Syncing run <strong style=\"color:#cdcd00\">06Oct2022</strong> to <a href=\"https://wandb.ai\" target=\"_blank\">Weights & Biases</a> <a href=\"https://docs.wandb.com/integrations/jupyter.html\" target=\"_blank\">(Documentation)</a>.<br/>\n",
              "                Project page: <a href=\"https://wandb.ai/fsdl2022_project051/land_cover_segmentation\" target=\"_blank\">https://wandb.ai/fsdl2022_project051/land_cover_segmentation</a><br/>\n",
              "                Run page: <a href=\"https://wandb.ai/fsdl2022_project051/land_cover_segmentation/runs/3d853bmt\" target=\"_blank\">https://wandb.ai/fsdl2022_project051/land_cover_segmentation/runs/3d853bmt</a><br/>\n",
              "                Run data is saved locally in <code>/home/mujahid/PycharmProjects/land_cover_classification_unet/wandb/run-20221006_094100-3d853bmt</code><br/><br/>\n",
              "            "
            ],
            "text/plain": [
              "<IPython.core.display.HTML object>"
            ]
          },
          "metadata": {},
          "output_type": "display_data"
        },
        {
          "data": {
            "text/html": [
              "<h1>Run(3d853bmt)</h1><iframe src=\"https://wandb.ai/fsdl2022_project051/land_cover_segmentation/runs/3d853bmt\" style=\"border:none;width:100%;height:400px\"></iframe>"
            ],
            "text/plain": [
              "<wandb.sdk.wandb_run.Run at 0x7f73c9841050>"
            ]
          },
          "execution_count": 12,
          "metadata": {},
          "output_type": "execute_result"
        }
      ],
      "source": [
        "import wandb    \n",
        "opt = {\n",
        "        'epochs': 100,\n",
        "        'batch_size': 4,\n",
        "        'lr': 4e-5,\n",
        "        'n_train': 800,\n",
        "        'n_validation': 100,\n",
        "    }\n",
        "wandb.init(config=opt,\n",
        "                   job_type='Training',\n",
        "                   entity=\"fsdl2022_project051\",\n",
        "                   project='land_cover_segmentation',\n",
        "                   name='06Oct2022')"
      ]
    },
    {
      "cell_type": "code",
      "execution_count": null,
      "metadata": {
        "ExecuteTime": {
          "end_time": "2022-10-06T07:00:15.293592Z",
          "start_time": "2022-10-06T07:00:13.537471Z"
        },
        "id": "TTWDy7G6XQY1",
        "outputId": "85ab2f9b-2ca0-4277-95e1-34dc21336dc4"
      },
      "outputs": [
        {
          "name": "stdout",
          "output_type": "stream",
          "text": [
            "<class 'numpy.ndarray'>\n",
            "(2448, 2448, 3)\n"
          ]
        }
      ],
      "source": [
        "print(type(dataset[0]['image'].numpy()))\n",
        "image = dataset[0]['image'].numpy()\n",
        "img_nd = image.transpose((1, 2, 0))\n"
      ]
    },
    {
      "cell_type": "code",
      "execution_count": null,
      "metadata": {
        "ExecuteTime": {
          "end_time": "2022-10-06T07:02:39.426353Z",
          "start_time": "2022-10-06T07:02:37.250045Z"
        },
        "id": "9vM-4B7EXQY2"
      },
      "outputs": [],
      "source": [
        "images = wandb.Image(img_nd, caption=\"Top: Output, Bottom: Input\")\n",
        "          \n",
        "wandb.log({\"examples\": images})"
      ]
    },
    {
      "cell_type": "code",
      "execution_count": null,
      "metadata": {
        "ExecuteTime": {
          "end_time": "2022-10-06T06:42:01.574780Z",
          "start_time": "2022-10-06T06:42:01.543369Z"
        },
        "id": "DtS847TvXQY2",
        "outputId": "fd666b9b-0edc-40fd-8186-5ddaad54e09f"
      },
      "outputs": [
        {
          "data": {
            "text/html": [
              "<h1>Run(3d853bmt)</h1><iframe src=\"https://wandb.ai/fsdl2022_project051/land_cover_segmentation/runs/3d853bmt\" style=\"border:none;width:100%;height:400px\"></iframe>"
            ],
            "text/plain": [
              "<wandb.sdk.wandb_run.Run at 0x7f73c9841050>"
            ]
          },
          "execution_count": 13,
          "metadata": {},
          "output_type": "execute_result"
        }
      ],
      "source": [
        "wandb.run"
      ]
    },
    {
      "cell_type": "code",
      "execution_count": null,
      "metadata": {
        "id": "dXNnWvyoXQY3"
      },
      "outputs": [],
      "source": []
    }
  ],
  "metadata": {
    "accelerator": "GPU",
    "colab": {
      "provenance": [],
      "include_colab_link": true
    },
    "kernelspec": {
      "display_name": "Python 3",
      "language": "python",
      "name": "python3"
    },
    "language_info": {
      "codemirror_mode": {
        "name": "ipython",
        "version": 3
      },
      "file_extension": ".py",
      "mimetype": "text/x-python",
      "name": "python",
      "nbconvert_exporter": "python",
      "pygments_lexer": "ipython3",
      "version": "3.7.6"
    },
    "pycharm": {
      "stem_cell": {
        "cell_type": "raw",
        "metadata": {
          "collapsed": false
        },
        "source": []
      }
    },
    "toc": {
      "base_numbering": 1,
      "nav_menu": {},
      "number_sections": true,
      "sideBar": true,
      "skip_h1_title": false,
      "title_cell": "Table of Contents",
      "title_sidebar": "Contents",
      "toc_cell": false,
      "toc_position": {},
      "toc_section_display": true,
      "toc_window_display": false
    }
  },
  "nbformat": 4,
  "nbformat_minor": 0
}